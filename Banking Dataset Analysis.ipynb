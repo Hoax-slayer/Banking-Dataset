{
 "cells": [
  {
   "cell_type": "code",
   "execution_count": 1,
   "id": "27a08fe4",
   "metadata": {},
   "outputs": [],
   "source": [
    "import pandas as pd\n",
    "import numpy as np\n",
    "import matplotlib.pyplot as plt"
   ]
  },
  {
   "cell_type": "code",
   "execution_count": 2,
   "id": "92e51121",
   "metadata": {},
   "outputs": [],
   "source": [
    "#reading Banking dataset\n",
    "bank_df = pd.read_csv(\"Banking Dataset\\\\train.csv\",index_col=False)"
   ]
  },
  {
   "cell_type": "code",
   "execution_count": 3,
   "id": "ecb9f6b7",
   "metadata": {},
   "outputs": [
    {
     "data": {
      "text/html": [
       "<div>\n",
       "<style scoped>\n",
       "    .dataframe tbody tr th:only-of-type {\n",
       "        vertical-align: middle;\n",
       "    }\n",
       "\n",
       "    .dataframe tbody tr th {\n",
       "        vertical-align: top;\n",
       "    }\n",
       "\n",
       "    .dataframe thead th {\n",
       "        text-align: right;\n",
       "    }\n",
       "</style>\n",
       "<table border=\"1\" class=\"dataframe\">\n",
       "  <thead>\n",
       "    <tr style=\"text-align: right;\">\n",
       "      <th></th>\n",
       "      <th>age</th>\n",
       "      <th>job</th>\n",
       "      <th>marital</th>\n",
       "      <th>education</th>\n",
       "      <th>default</th>\n",
       "      <th>balance</th>\n",
       "      <th>housing</th>\n",
       "      <th>loan</th>\n",
       "      <th>contact</th>\n",
       "      <th>day</th>\n",
       "      <th>month</th>\n",
       "      <th>duration</th>\n",
       "      <th>campaign</th>\n",
       "      <th>pdays</th>\n",
       "      <th>previous</th>\n",
       "      <th>poutcome</th>\n",
       "      <th>y</th>\n",
       "    </tr>\n",
       "  </thead>\n",
       "  <tbody>\n",
       "    <tr>\n",
       "      <th>0</th>\n",
       "      <td>58</td>\n",
       "      <td>management</td>\n",
       "      <td>married</td>\n",
       "      <td>tertiary</td>\n",
       "      <td>no</td>\n",
       "      <td>2143</td>\n",
       "      <td>yes</td>\n",
       "      <td>no</td>\n",
       "      <td>unknown</td>\n",
       "      <td>5</td>\n",
       "      <td>may</td>\n",
       "      <td>261</td>\n",
       "      <td>1</td>\n",
       "      <td>-1</td>\n",
       "      <td>0</td>\n",
       "      <td>unknown</td>\n",
       "      <td>no</td>\n",
       "    </tr>\n",
       "    <tr>\n",
       "      <th>1</th>\n",
       "      <td>44</td>\n",
       "      <td>technician</td>\n",
       "      <td>single</td>\n",
       "      <td>secondary</td>\n",
       "      <td>no</td>\n",
       "      <td>29</td>\n",
       "      <td>yes</td>\n",
       "      <td>no</td>\n",
       "      <td>unknown</td>\n",
       "      <td>5</td>\n",
       "      <td>may</td>\n",
       "      <td>151</td>\n",
       "      <td>1</td>\n",
       "      <td>-1</td>\n",
       "      <td>0</td>\n",
       "      <td>unknown</td>\n",
       "      <td>no</td>\n",
       "    </tr>\n",
       "    <tr>\n",
       "      <th>2</th>\n",
       "      <td>33</td>\n",
       "      <td>entrepreneur</td>\n",
       "      <td>married</td>\n",
       "      <td>secondary</td>\n",
       "      <td>no</td>\n",
       "      <td>2</td>\n",
       "      <td>yes</td>\n",
       "      <td>yes</td>\n",
       "      <td>unknown</td>\n",
       "      <td>5</td>\n",
       "      <td>may</td>\n",
       "      <td>76</td>\n",
       "      <td>1</td>\n",
       "      <td>-1</td>\n",
       "      <td>0</td>\n",
       "      <td>unknown</td>\n",
       "      <td>no</td>\n",
       "    </tr>\n",
       "    <tr>\n",
       "      <th>3</th>\n",
       "      <td>47</td>\n",
       "      <td>blue-collar</td>\n",
       "      <td>married</td>\n",
       "      <td>unknown</td>\n",
       "      <td>no</td>\n",
       "      <td>1506</td>\n",
       "      <td>yes</td>\n",
       "      <td>no</td>\n",
       "      <td>unknown</td>\n",
       "      <td>5</td>\n",
       "      <td>may</td>\n",
       "      <td>92</td>\n",
       "      <td>1</td>\n",
       "      <td>-1</td>\n",
       "      <td>0</td>\n",
       "      <td>unknown</td>\n",
       "      <td>no</td>\n",
       "    </tr>\n",
       "    <tr>\n",
       "      <th>4</th>\n",
       "      <td>33</td>\n",
       "      <td>unknown</td>\n",
       "      <td>single</td>\n",
       "      <td>unknown</td>\n",
       "      <td>no</td>\n",
       "      <td>1</td>\n",
       "      <td>no</td>\n",
       "      <td>no</td>\n",
       "      <td>unknown</td>\n",
       "      <td>5</td>\n",
       "      <td>may</td>\n",
       "      <td>198</td>\n",
       "      <td>1</td>\n",
       "      <td>-1</td>\n",
       "      <td>0</td>\n",
       "      <td>unknown</td>\n",
       "      <td>no</td>\n",
       "    </tr>\n",
       "  </tbody>\n",
       "</table>\n",
       "</div>"
      ],
      "text/plain": [
       "   age           job  marital  education default  balance housing loan  \\\n",
       "0   58    management  married   tertiary      no     2143     yes   no   \n",
       "1   44    technician   single  secondary      no       29     yes   no   \n",
       "2   33  entrepreneur  married  secondary      no        2     yes  yes   \n",
       "3   47   blue-collar  married    unknown      no     1506     yes   no   \n",
       "4   33       unknown   single    unknown      no        1      no   no   \n",
       "\n",
       "   contact  day month  duration  campaign  pdays  previous poutcome   y  \n",
       "0  unknown    5   may       261         1     -1         0  unknown  no  \n",
       "1  unknown    5   may       151         1     -1         0  unknown  no  \n",
       "2  unknown    5   may        76         1     -1         0  unknown  no  \n",
       "3  unknown    5   may        92         1     -1         0  unknown  no  \n",
       "4  unknown    5   may       198         1     -1         0  unknown  no  "
      ]
     },
     "execution_count": 3,
     "metadata": {},
     "output_type": "execute_result"
    }
   ],
   "source": [
    "bank_df.head()"
   ]
  },
  {
   "cell_type": "code",
   "execution_count": 4,
   "id": "f7cddcb1",
   "metadata": {},
   "outputs": [
    {
     "data": {
      "text/html": [
       "<div>\n",
       "<style scoped>\n",
       "    .dataframe tbody tr th:only-of-type {\n",
       "        vertical-align: middle;\n",
       "    }\n",
       "\n",
       "    .dataframe tbody tr th {\n",
       "        vertical-align: top;\n",
       "    }\n",
       "\n",
       "    .dataframe thead th {\n",
       "        text-align: right;\n",
       "    }\n",
       "</style>\n",
       "<table border=\"1\" class=\"dataframe\">\n",
       "  <thead>\n",
       "    <tr style=\"text-align: right;\">\n",
       "      <th></th>\n",
       "      <th>age</th>\n",
       "      <th>balance</th>\n",
       "      <th>day</th>\n",
       "      <th>duration</th>\n",
       "      <th>campaign</th>\n",
       "      <th>pdays</th>\n",
       "      <th>previous</th>\n",
       "    </tr>\n",
       "  </thead>\n",
       "  <tbody>\n",
       "    <tr>\n",
       "      <th>count</th>\n",
       "      <td>45211.000000</td>\n",
       "      <td>45211.000000</td>\n",
       "      <td>45211.000000</td>\n",
       "      <td>45211.000000</td>\n",
       "      <td>45211.000000</td>\n",
       "      <td>45211.000000</td>\n",
       "      <td>45211.000000</td>\n",
       "    </tr>\n",
       "    <tr>\n",
       "      <th>mean</th>\n",
       "      <td>40.936210</td>\n",
       "      <td>1362.272058</td>\n",
       "      <td>15.806419</td>\n",
       "      <td>258.163080</td>\n",
       "      <td>2.763841</td>\n",
       "      <td>40.197828</td>\n",
       "      <td>0.580323</td>\n",
       "    </tr>\n",
       "    <tr>\n",
       "      <th>std</th>\n",
       "      <td>10.618762</td>\n",
       "      <td>3044.765829</td>\n",
       "      <td>8.322476</td>\n",
       "      <td>257.527812</td>\n",
       "      <td>3.098021</td>\n",
       "      <td>100.128746</td>\n",
       "      <td>2.303441</td>\n",
       "    </tr>\n",
       "    <tr>\n",
       "      <th>min</th>\n",
       "      <td>18.000000</td>\n",
       "      <td>-8019.000000</td>\n",
       "      <td>1.000000</td>\n",
       "      <td>0.000000</td>\n",
       "      <td>1.000000</td>\n",
       "      <td>-1.000000</td>\n",
       "      <td>0.000000</td>\n",
       "    </tr>\n",
       "    <tr>\n",
       "      <th>25%</th>\n",
       "      <td>33.000000</td>\n",
       "      <td>72.000000</td>\n",
       "      <td>8.000000</td>\n",
       "      <td>103.000000</td>\n",
       "      <td>1.000000</td>\n",
       "      <td>-1.000000</td>\n",
       "      <td>0.000000</td>\n",
       "    </tr>\n",
       "    <tr>\n",
       "      <th>50%</th>\n",
       "      <td>39.000000</td>\n",
       "      <td>448.000000</td>\n",
       "      <td>16.000000</td>\n",
       "      <td>180.000000</td>\n",
       "      <td>2.000000</td>\n",
       "      <td>-1.000000</td>\n",
       "      <td>0.000000</td>\n",
       "    </tr>\n",
       "    <tr>\n",
       "      <th>75%</th>\n",
       "      <td>48.000000</td>\n",
       "      <td>1428.000000</td>\n",
       "      <td>21.000000</td>\n",
       "      <td>319.000000</td>\n",
       "      <td>3.000000</td>\n",
       "      <td>-1.000000</td>\n",
       "      <td>0.000000</td>\n",
       "    </tr>\n",
       "    <tr>\n",
       "      <th>max</th>\n",
       "      <td>95.000000</td>\n",
       "      <td>102127.000000</td>\n",
       "      <td>31.000000</td>\n",
       "      <td>4918.000000</td>\n",
       "      <td>63.000000</td>\n",
       "      <td>871.000000</td>\n",
       "      <td>275.000000</td>\n",
       "    </tr>\n",
       "  </tbody>\n",
       "</table>\n",
       "</div>"
      ],
      "text/plain": [
       "                age        balance           day      duration      campaign  \\\n",
       "count  45211.000000   45211.000000  45211.000000  45211.000000  45211.000000   \n",
       "mean      40.936210    1362.272058     15.806419    258.163080      2.763841   \n",
       "std       10.618762    3044.765829      8.322476    257.527812      3.098021   \n",
       "min       18.000000   -8019.000000      1.000000      0.000000      1.000000   \n",
       "25%       33.000000      72.000000      8.000000    103.000000      1.000000   \n",
       "50%       39.000000     448.000000     16.000000    180.000000      2.000000   \n",
       "75%       48.000000    1428.000000     21.000000    319.000000      3.000000   \n",
       "max       95.000000  102127.000000     31.000000   4918.000000     63.000000   \n",
       "\n",
       "              pdays      previous  \n",
       "count  45211.000000  45211.000000  \n",
       "mean      40.197828      0.580323  \n",
       "std      100.128746      2.303441  \n",
       "min       -1.000000      0.000000  \n",
       "25%       -1.000000      0.000000  \n",
       "50%       -1.000000      0.000000  \n",
       "75%       -1.000000      0.000000  \n",
       "max      871.000000    275.000000  "
      ]
     },
     "execution_count": 4,
     "metadata": {},
     "output_type": "execute_result"
    }
   ],
   "source": [
    "bank_df.describe()"
   ]
  },
  {
   "cell_type": "code",
   "execution_count": 5,
   "id": "68e6f8fe",
   "metadata": {},
   "outputs": [
    {
     "name": "stdout",
     "output_type": "stream",
     "text": [
      "<class 'pandas.core.frame.DataFrame'>\n",
      "RangeIndex: 45211 entries, 0 to 45210\n",
      "Data columns (total 17 columns):\n",
      " #   Column     Non-Null Count  Dtype \n",
      "---  ------     --------------  ----- \n",
      " 0   age        45211 non-null  int64 \n",
      " 1   job        45211 non-null  object\n",
      " 2   marital    45211 non-null  object\n",
      " 3   education  45211 non-null  object\n",
      " 4   default    45211 non-null  object\n",
      " 5   balance    45211 non-null  int64 \n",
      " 6   housing    45211 non-null  object\n",
      " 7   loan       45211 non-null  object\n",
      " 8   contact    45211 non-null  object\n",
      " 9   day        45211 non-null  int64 \n",
      " 10  month      45211 non-null  object\n",
      " 11  duration   45211 non-null  int64 \n",
      " 12  campaign   45211 non-null  int64 \n",
      " 13  pdays      45211 non-null  int64 \n",
      " 14  previous   45211 non-null  int64 \n",
      " 15  poutcome   45211 non-null  object\n",
      " 16  y          45211 non-null  object\n",
      "dtypes: int64(7), object(10)\n",
      "memory usage: 5.9+ MB\n"
     ]
    }
   ],
   "source": [
    "bank_df.info()"
   ]
  },
  {
   "cell_type": "markdown",
   "id": "eab12feb",
   "metadata": {},
   "source": [
    "##### We need to convert the object data type to categorical data type!"
   ]
  },
  {
   "cell_type": "code",
   "execution_count": 6,
   "id": "aa90c2d5",
   "metadata": {},
   "outputs": [],
   "source": [
    "cols_to_category = [\n",
    "    \"job\",\n",
    "    \"marital\",\n",
    "    \"education\",\n",
    "    \"default\",\n",
    "    \"housing\",\n",
    "    \"loan\",\n",
    "    \"contact\",\n",
    "    \"month\",\n",
    "    \"poutcome\",\n",
    "]\n",
    "bank_df[cols_to_category] = bank_df[cols_to_category].astype(\"category\")"
   ]
  },
  {
   "cell_type": "code",
   "execution_count": 7,
   "id": "8b649f68",
   "metadata": {},
   "outputs": [
    {
     "name": "stdout",
     "output_type": "stream",
     "text": [
      "<class 'pandas.core.frame.DataFrame'>\n",
      "RangeIndex: 45211 entries, 0 to 45210\n",
      "Data columns (total 17 columns):\n",
      " #   Column     Non-Null Count  Dtype   \n",
      "---  ------     --------------  -----   \n",
      " 0   age        45211 non-null  int64   \n",
      " 1   job        45211 non-null  category\n",
      " 2   marital    45211 non-null  category\n",
      " 3   education  45211 non-null  category\n",
      " 4   default    45211 non-null  category\n",
      " 5   balance    45211 non-null  int64   \n",
      " 6   housing    45211 non-null  category\n",
      " 7   loan       45211 non-null  category\n",
      " 8   contact    45211 non-null  category\n",
      " 9   day        45211 non-null  int64   \n",
      " 10  month      45211 non-null  category\n",
      " 11  duration   45211 non-null  int64   \n",
      " 12  campaign   45211 non-null  int64   \n",
      " 13  pdays      45211 non-null  int64   \n",
      " 14  previous   45211 non-null  int64   \n",
      " 15  poutcome   45211 non-null  category\n",
      " 16  y          45211 non-null  object  \n",
      "dtypes: category(9), int64(7), object(1)\n",
      "memory usage: 3.1+ MB\n"
     ]
    }
   ],
   "source": [
    "bank_df.info()"
   ]
  },
  {
   "cell_type": "code",
   "execution_count": 8,
   "id": "0aba24e5",
   "metadata": {},
   "outputs": [],
   "source": [
    "#Converting the target variable to (0=\"No\" & 1=\"Yes\")\n",
    "\n",
    "bank_df['y'] = np.where(bank_df['y']=='no',0,1)"
   ]
  },
  {
   "cell_type": "code",
   "execution_count": 9,
   "id": "f4273ef8",
   "metadata": {},
   "outputs": [
    {
     "data": {
      "text/plain": [
       "y\n",
       "0    39922\n",
       "1     5289\n",
       "Name: count, dtype: int64"
      ]
     },
     "execution_count": 9,
     "metadata": {},
     "output_type": "execute_result"
    }
   ],
   "source": [
    "bank_df['y'].value_counts()"
   ]
  },
  {
   "cell_type": "code",
   "execution_count": 10,
   "id": "0c5f5726",
   "metadata": {},
   "outputs": [
    {
     "data": {
      "text/plain": [
       "job\n",
       "blue-collar      9732\n",
       "management       9458\n",
       "technician       7597\n",
       "admin.           5171\n",
       "services         4154\n",
       "retired          2264\n",
       "self-employed    1579\n",
       "entrepreneur     1487\n",
       "unemployed       1303\n",
       "housemaid        1240\n",
       "student           938\n",
       "unknown           288\n",
       "Name: count, dtype: int64"
      ]
     },
     "execution_count": 10,
     "metadata": {},
     "output_type": "execute_result"
    }
   ],
   "source": [
    "bank_df['job'].value_counts()"
   ]
  },
  {
   "cell_type": "markdown",
   "id": "2e6861e2",
   "metadata": {},
   "source": [
    "### Basic Visualizations"
   ]
  },
  {
   "cell_type": "code",
   "execution_count": 11,
   "id": "a350a443",
   "metadata": {},
   "outputs": [],
   "source": [
    "import seaborn as sns"
   ]
  },
  {
   "cell_type": "code",
   "execution_count": 12,
   "id": "fff6d52c",
   "metadata": {},
   "outputs": [
    {
     "data": {
      "text/plain": [
       "<Axes: xlabel='y', ylabel='count'>"
      ]
     },
     "execution_count": 12,
     "metadata": {},
     "output_type": "execute_result"
    },
    {
     "data": {
      "image/png": "[encoded data removed]",
      "text/plain": [
       "<Figure size 640x480 with 1 Axes>"
      ]
     },
     "metadata": {},
     "output_type": "display_data"
    }
   ],
   "source": [
    "sns.countplot(data=bank_df,x='y')"
   ]
  },
  {
   "cell_type": "code",
   "execution_count": 13,
   "id": "e2ca50e5",
   "metadata": {},
   "outputs": [
    {
     "data": {
      "text/plain": [
       "y\n",
       "0    39922\n",
       "1     5289\n",
       "dtype: int64"
      ]
     },
     "execution_count": 13,
     "metadata": {},
     "output_type": "execute_result"
    }
   ],
   "source": [
    "#class Imbalance\n",
    "\n",
    "bank_df.groupby(['y']).size()"
   ]
  },
  {
   "cell_type": "markdown",
   "id": "7133b0fb",
   "metadata": {},
   "source": [
    "#### Highly Imbalanced classes"
   ]
  },
  {
   "cell_type": "code",
   "execution_count": 14,
   "id": "299f5333",
   "metadata": {},
   "outputs": [
    {
     "data": {
      "text/plain": [
       "<Axes: xlabel='default', ylabel='count'>"
      ]
     },
     "execution_count": 14,
     "metadata": {},
     "output_type": "execute_result"
    },
    {
     "data": {
      "image/png": "[encoded data removed]",
      "text/plain": [
       "<Figure size 640x480 with 1 Axes>"
      ]
     },
     "metadata": {},
     "output_type": "display_data"
    }
   ],
   "source": [
    "# defaults \n",
    "sns.countplot(bank_df,x='default',hue='y')"
   ]
  },
  {
   "cell_type": "code",
   "execution_count": 15,
   "id": "2dfd11a6",
   "metadata": {},
   "outputs": [
    {
     "data": {
      "text/plain": [
       "<Axes: >"
      ]
     },
     "execution_count": 15,
     "metadata": {},
     "output_type": "execute_result"
    },
    {
     "data": {
      "image/png": "[encoded data removed]",
      "text/plain": [
       "<Figure size 640x480 with 1 Axes>"
      ]
     },
     "metadata": {},
     "output_type": "display_data"
    }
   ],
   "source": [
    "# Checking for missing data\n",
    "\n",
    "sns.heatmap(bank_df.isnull(),cbar=False,cmap='viridis',yticklabels=False)"
   ]
  },
  {
   "cell_type": "code",
   "execution_count": 16,
   "id": "931dbbe8",
   "metadata": {},
   "outputs": [
    {
     "data": {
      "text/plain": [
       "<Axes: xlabel='age', ylabel='Count'>"
      ]
     },
     "execution_count": 16,
     "metadata": {},
     "output_type": "execute_result"
    },
    {
     "data": {
      "image/png": "[encoded data removed]",
      "text/plain": [
       "<Figure size 640x480 with 1 Axes>"
      ]
     },
     "metadata": {},
     "output_type": "display_data"
    }
   ],
   "source": [
    "#Performing EDA\n",
    "\n",
    "sns.histplot(bank_df,x='age',bins=35,color='skyblue',kde=True,hue='y')"
   ]
  },
  {
   "cell_type": "markdown",
   "id": "79fdc0b5",
   "metadata": {},
   "source": [
    "#### We will now define subsciption rate which will tell us the distribution of different categorical features where y valus is 1 "
   ]
  },
  {
   "cell_type": "code",
   "execution_count": 17,
   "id": "904e060f",
   "metadata": {},
   "outputs": [],
   "source": [
    "#Generalized code for all categorical variable\n",
    "\n",
    "# Calculate subscription rate for each categorical variable\n",
    "categorical_columns = ['job', 'marital', 'education', 'default', 'housing', 'loan', 'contact', 'month', 'poutcome']\n",
    "\n",
    "subscription_rates = {}\n",
    "\n",
    "for col in categorical_columns:\n",
    "    \n",
    "    subscription_rates[col] = bank_df.groupby(col)['y'].apply(lambda x: (x == 1).mean())"
   ]
  },
  {
   "cell_type": "code",
   "execution_count": 18,
   "id": "f0c10ab3",
   "metadata": {},
   "outputs": [
    {
     "data": {
      "text/plain": [
       "dict_keys(['job', 'marital', 'education', 'default', 'housing', 'loan', 'contact', 'month', 'poutcome'])"
      ]
     },
     "execution_count": 18,
     "metadata": {},
     "output_type": "execute_result"
    }
   ],
   "source": [
    "subscription_rates.keys()"
   ]
  },
  {
   "cell_type": "code",
   "execution_count": 19,
   "id": "72efe366",
   "metadata": {},
   "outputs": [
    {
     "data": {
      "text/plain": [
       "job\n",
       "admin.           0.122027\n",
       "blue-collar      0.072750\n",
       "entrepreneur     0.082717\n",
       "housemaid        0.087903\n",
       "management       0.137556\n",
       "retired          0.227915\n",
       "self-employed    0.118429\n",
       "services         0.088830\n",
       "student          0.286780\n",
       "technician       0.110570\n",
       "unemployed       0.155027\n",
       "unknown          0.118056\n",
       "Name: y, dtype: float64"
      ]
     },
     "execution_count": 19,
     "metadata": {},
     "output_type": "execute_result"
    }
   ],
   "source": [
    "subscription_rates['job']"
   ]
  },
  {
   "cell_type": "markdown",
   "id": "799e6698",
   "metadata": {},
   "source": [
    "#### The above data tells us that out of 100 data points where y is 1, 28 of them are students"
   ]
  },
  {
   "cell_type": "code",
   "execution_count": 20,
   "id": "0eb2e52e",
   "metadata": {},
   "outputs": [
    {
     "data": {
      "text/plain": [
       "<Axes: xlabel='job'>"
      ]
     },
     "execution_count": 20,
     "metadata": {},
     "output_type": "execute_result"
    },
    {
     "data": {
      "image/png": "[encoded data removed]",
      "text/plain": [
       "<Figure size 640x480 with 1 Axes>"
      ]
     },
     "metadata": {},
     "output_type": "display_data"
    }
   ],
   "source": [
    "# Plotting a bar plot for one categorical column\n",
    "\n",
    "temp=subscription_rates['job']\n",
    "\n",
    "pd.DataFrame.from_dict(temp).plot(kind='bar',color='skyblue')"
   ]
  },
  {
   "cell_type": "code",
   "execution_count": 21,
   "id": "e991cc3e",
   "metadata": {},
   "outputs": [
    {
     "data": {
      "image/png": "[encoded data removed]",
      "text/plain": [
       "<Figure size 1400x1500 with 9 Axes>"
      ]
     },
     "metadata": {},
     "output_type": "display_data"
    }
   ],
   "source": [
    "#Plotting different subsciption rates\n",
    "\n",
    "plt.figure(figsize=(14, 15))\n",
    "\n",
    "for idx, col in enumerate(categorical_columns, 1):\n",
    "    ax = plt.subplot(3, 3, idx)  # Get the current axis\n",
    "    temp = subscription_rates[col].items()\n",
    "    categories, rates = zip(*temp)  # Unpack the dictionary items\n",
    "    sns.barplot(x=list(rates), y=list(categories), color='skyblue', ax=ax)\n",
    "    ax.set_title(f'Subscription Rate by {col}')\n",
    "    ax.set_xlabel('Subscription Rate')\n",
    "    ax.set_ylabel('')\n",
    "\n",
    "plt.tight_layout()\n",
    "plt.show()"
   ]
  },
  {
   "cell_type": "code",
   "execution_count": 22,
   "id": "2aee3ad5",
   "metadata": {},
   "outputs": [
    {
     "data": {
      "text/plain": [
       "<Axes: >"
      ]
     },
     "execution_count": 22,
     "metadata": {},
     "output_type": "execute_result"
    },
    {
     "data": {
      "image/png": "[encoded data removed]",
      "text/plain": [
       "<Figure size 640x480 with 2 Axes>"
      ]
     },
     "metadata": {},
     "output_type": "display_data"
    }
   ],
   "source": [
    "# Correlation between numerical variables \n",
    "\n",
    "sns.heatmap(bank_df.corr(numeric_only=True))"
   ]
  },
  {
   "cell_type": "code",
   "execution_count": 23,
   "id": "1b6bca6a",
   "metadata": {},
   "outputs": [
    {
     "data": {
      "text/html": [
       "<style type=\"text/css\">\n",
       "#T_044f5_row0_col0, #T_044f5_row1_col1, #T_044f5_row2_col2, #T_044f5_row3_col3, #T_044f5_row4_col4, #T_044f5_row5_col5, #T_044f5_row6_col6, #T_044f5_row7_col7 {\n",
       "  background-color: #023858;\n",
       "  color: #f1f1f1;\n",
       "}\n",
       "#T_044f5_row0_col1, #T_044f5_row1_col0 {\n",
       "  background-color: #e1dfed;\n",
       "  color: #000000;\n",
       "}\n",
       "#T_044f5_row0_col2, #T_044f5_row2_col0 {\n",
       "  background-color: #f4edf6;\n",
       "  color: #000000;\n",
       "}\n",
       "#T_044f5_row0_col3, #T_044f5_row3_col0 {\n",
       "  background-color: #f3edf5;\n",
       "  color: #000000;\n",
       "}\n",
       "#T_044f5_row0_col4, #T_044f5_row0_col6, #T_044f5_row1_col2, #T_044f5_row1_col5, #T_044f5_row2_col1, #T_044f5_row3_col5, #T_044f5_row3_col6, #T_044f5_row4_col0, #T_044f5_row5_col1, #T_044f5_row5_col3, #T_044f5_row6_col0, #T_044f5_row6_col3 {\n",
       "  background-color: #f2ecf5;\n",
       "  color: #000000;\n",
       "}\n",
       "#T_044f5_row0_col5, #T_044f5_row5_col0 {\n",
       "  background-color: #f5eff6;\n",
       "  color: #000000;\n",
       "}\n",
       "#T_044f5_row0_col7, #T_044f5_row7_col0 {\n",
       "  background-color: #efe9f3;\n",
       "  color: #000000;\n",
       "}\n",
       "#T_044f5_row1_col3, #T_044f5_row1_col6, #T_044f5_row3_col1, #T_044f5_row6_col1 {\n",
       "  background-color: #f0eaf4;\n",
       "  color: #000000;\n",
       "}\n",
       "#T_044f5_row1_col4, #T_044f5_row4_col1 {\n",
       "  background-color: #f4eef6;\n",
       "  color: #000000;\n",
       "}\n",
       "#T_044f5_row1_col7, #T_044f5_row7_col1 {\n",
       "  background-color: #eae6f1;\n",
       "  color: #000000;\n",
       "}\n",
       "#T_044f5_row2_col3, #T_044f5_row3_col2, #T_044f5_row4_col6, #T_044f5_row6_col4 {\n",
       "  background-color: #f7f0f7;\n",
       "  color: #000000;\n",
       "}\n",
       "#T_044f5_row2_col4, #T_044f5_row4_col2 {\n",
       "  background-color: #d4d4e8;\n",
       "  color: #000000;\n",
       "}\n",
       "#T_044f5_row2_col5, #T_044f5_row5_col2 {\n",
       "  background-color: #fff7fb;\n",
       "  color: #000000;\n",
       "}\n",
       "#T_044f5_row2_col6, #T_044f5_row6_col2 {\n",
       "  background-color: #faf2f8;\n",
       "  color: #000000;\n",
       "}\n",
       "#T_044f5_row2_col7, #T_044f5_row7_col2 {\n",
       "  background-color: #f6eff7;\n",
       "  color: #000000;\n",
       "}\n",
       "#T_044f5_row3_col4, #T_044f5_row4_col3, #T_044f5_row4_col5, #T_044f5_row5_col4 {\n",
       "  background-color: #fef6fb;\n",
       "  color: #000000;\n",
       "}\n",
       "#T_044f5_row3_col7, #T_044f5_row7_col3 {\n",
       "  background-color: #89b1d4;\n",
       "  color: #000000;\n",
       "}\n",
       "#T_044f5_row4_col7, #T_044f5_row7_col4 {\n",
       "  background-color: #fdf5fa;\n",
       "  color: #000000;\n",
       "}\n",
       "#T_044f5_row5_col6, #T_044f5_row6_col5 {\n",
       "  background-color: #73a9cf;\n",
       "  color: #f1f1f1;\n",
       "}\n",
       "#T_044f5_row5_col7, #T_044f5_row7_col5 {\n",
       "  background-color: #e0dded;\n",
       "  color: #000000;\n",
       "}\n",
       "#T_044f5_row6_col7, #T_044f5_row7_col6 {\n",
       "  background-color: #e2dfee;\n",
       "  color: #000000;\n",
       "}\n",
       "</style>\n",
       "<table id=\"T_044f5\">\n",
       "  <thead>\n",
       "    <tr>\n",
       "      <th class=\"blank level0\" >&nbsp;</th>\n",
       "      <th id=\"T_044f5_level0_col0\" class=\"col_heading level0 col0\" >age</th>\n",
       "      <th id=\"T_044f5_level0_col1\" class=\"col_heading level0 col1\" >balance</th>\n",
       "      <th id=\"T_044f5_level0_col2\" class=\"col_heading level0 col2\" >day</th>\n",
       "      <th id=\"T_044f5_level0_col3\" class=\"col_heading level0 col3\" >duration</th>\n",
       "      <th id=\"T_044f5_level0_col4\" class=\"col_heading level0 col4\" >campaign</th>\n",
       "      <th id=\"T_044f5_level0_col5\" class=\"col_heading level0 col5\" >pdays</th>\n",
       "      <th id=\"T_044f5_level0_col6\" class=\"col_heading level0 col6\" >previous</th>\n",
       "      <th id=\"T_044f5_level0_col7\" class=\"col_heading level0 col7\" >y</th>\n",
       "    </tr>\n",
       "  </thead>\n",
       "  <tbody>\n",
       "    <tr>\n",
       "      <th id=\"T_044f5_level0_row0\" class=\"row_heading level0 row0\" >age</th>\n",
       "      <td id=\"T_044f5_row0_col0\" class=\"data row0 col0\" >1.000000</td>\n",
       "      <td id=\"T_044f5_row0_col1\" class=\"data row0 col1\" >0.097783</td>\n",
       "      <td id=\"T_044f5_row0_col2\" class=\"data row0 col2\" >-0.009120</td>\n",
       "      <td id=\"T_044f5_row0_col3\" class=\"data row0 col3\" >-0.004648</td>\n",
       "      <td id=\"T_044f5_row0_col4\" class=\"data row0 col4\" >0.004760</td>\n",
       "      <td id=\"T_044f5_row0_col5\" class=\"data row0 col5\" >-0.023758</td>\n",
       "      <td id=\"T_044f5_row0_col6\" class=\"data row0 col6\" >0.001288</td>\n",
       "      <td id=\"T_044f5_row0_col7\" class=\"data row0 col7\" >0.025155</td>\n",
       "    </tr>\n",
       "    <tr>\n",
       "      <th id=\"T_044f5_level0_row1\" class=\"row_heading level0 row1\" >balance</th>\n",
       "      <td id=\"T_044f5_row1_col0\" class=\"data row1 col0\" >0.097783</td>\n",
       "      <td id=\"T_044f5_row1_col1\" class=\"data row1 col1\" >1.000000</td>\n",
       "      <td id=\"T_044f5_row1_col2\" class=\"data row1 col2\" >0.004503</td>\n",
       "      <td id=\"T_044f5_row1_col3\" class=\"data row1 col3\" >0.021560</td>\n",
       "      <td id=\"T_044f5_row1_col4\" class=\"data row1 col4\" >-0.014578</td>\n",
       "      <td id=\"T_044f5_row1_col5\" class=\"data row1 col5\" >0.003435</td>\n",
       "      <td id=\"T_044f5_row1_col6\" class=\"data row1 col6\" >0.016674</td>\n",
       "      <td id=\"T_044f5_row1_col7\" class=\"data row1 col7\" >0.052838</td>\n",
       "    </tr>\n",
       "    <tr>\n",
       "      <th id=\"T_044f5_level0_row2\" class=\"row_heading level0 row2\" >day</th>\n",
       "      <td id=\"T_044f5_row2_col0\" class=\"data row2 col0\" >-0.009120</td>\n",
       "      <td id=\"T_044f5_row2_col1\" class=\"data row2 col1\" >0.004503</td>\n",
       "      <td id=\"T_044f5_row2_col2\" class=\"data row2 col2\" >1.000000</td>\n",
       "      <td id=\"T_044f5_row2_col3\" class=\"data row2 col3\" >-0.030206</td>\n",
       "      <td id=\"T_044f5_row2_col4\" class=\"data row2 col4\" >0.162490</td>\n",
       "      <td id=\"T_044f5_row2_col5\" class=\"data row2 col5\" >-0.093044</td>\n",
       "      <td id=\"T_044f5_row2_col6\" class=\"data row2 col6\" >-0.051710</td>\n",
       "      <td id=\"T_044f5_row2_col7\" class=\"data row2 col7\" >-0.028348</td>\n",
       "    </tr>\n",
       "    <tr>\n",
       "      <th id=\"T_044f5_level0_row3\" class=\"row_heading level0 row3\" >duration</th>\n",
       "      <td id=\"T_044f5_row3_col0\" class=\"data row3 col0\" >-0.004648</td>\n",
       "      <td id=\"T_044f5_row3_col1\" class=\"data row3 col1\" >0.021560</td>\n",
       "      <td id=\"T_044f5_row3_col2\" class=\"data row3 col2\" >-0.030206</td>\n",
       "      <td id=\"T_044f5_row3_col3\" class=\"data row3 col3\" >1.000000</td>\n",
       "      <td id=\"T_044f5_row3_col4\" class=\"data row3 col4\" >-0.084570</td>\n",
       "      <td id=\"T_044f5_row3_col5\" class=\"data row3 col5\" >-0.001565</td>\n",
       "      <td id=\"T_044f5_row3_col6\" class=\"data row3 col6\" >0.001203</td>\n",
       "      <td id=\"T_044f5_row3_col7\" class=\"data row3 col7\" >0.394521</td>\n",
       "    </tr>\n",
       "    <tr>\n",
       "      <th id=\"T_044f5_level0_row4\" class=\"row_heading level0 row4\" >campaign</th>\n",
       "      <td id=\"T_044f5_row4_col0\" class=\"data row4 col0\" >0.004760</td>\n",
       "      <td id=\"T_044f5_row4_col1\" class=\"data row4 col1\" >-0.014578</td>\n",
       "      <td id=\"T_044f5_row4_col2\" class=\"data row4 col2\" >0.162490</td>\n",
       "      <td id=\"T_044f5_row4_col3\" class=\"data row4 col3\" >-0.084570</td>\n",
       "      <td id=\"T_044f5_row4_col4\" class=\"data row4 col4\" >1.000000</td>\n",
       "      <td id=\"T_044f5_row4_col5\" class=\"data row4 col5\" >-0.088628</td>\n",
       "      <td id=\"T_044f5_row4_col6\" class=\"data row4 col6\" >-0.032855</td>\n",
       "      <td id=\"T_044f5_row4_col7\" class=\"data row4 col7\" >-0.073172</td>\n",
       "    </tr>\n",
       "    <tr>\n",
       "      <th id=\"T_044f5_level0_row5\" class=\"row_heading level0 row5\" >pdays</th>\n",
       "      <td id=\"T_044f5_row5_col0\" class=\"data row5 col0\" >-0.023758</td>\n",
       "      <td id=\"T_044f5_row5_col1\" class=\"data row5 col1\" >0.003435</td>\n",
       "      <td id=\"T_044f5_row5_col2\" class=\"data row5 col2\" >-0.093044</td>\n",
       "      <td id=\"T_044f5_row5_col3\" class=\"data row5 col3\" >-0.001565</td>\n",
       "      <td id=\"T_044f5_row5_col4\" class=\"data row5 col4\" >-0.088628</td>\n",
       "      <td id=\"T_044f5_row5_col5\" class=\"data row5 col5\" >1.000000</td>\n",
       "      <td id=\"T_044f5_row5_col6\" class=\"data row5 col6\" >0.454820</td>\n",
       "      <td id=\"T_044f5_row5_col7\" class=\"data row5 col7\" >0.103621</td>\n",
       "    </tr>\n",
       "    <tr>\n",
       "      <th id=\"T_044f5_level0_row6\" class=\"row_heading level0 row6\" >previous</th>\n",
       "      <td id=\"T_044f5_row6_col0\" class=\"data row6 col0\" >0.001288</td>\n",
       "      <td id=\"T_044f5_row6_col1\" class=\"data row6 col1\" >0.016674</td>\n",
       "      <td id=\"T_044f5_row6_col2\" class=\"data row6 col2\" >-0.051710</td>\n",
       "      <td id=\"T_044f5_row6_col3\" class=\"data row6 col3\" >0.001203</td>\n",
       "      <td id=\"T_044f5_row6_col4\" class=\"data row6 col4\" >-0.032855</td>\n",
       "      <td id=\"T_044f5_row6_col5\" class=\"data row6 col5\" >0.454820</td>\n",
       "      <td id=\"T_044f5_row6_col6\" class=\"data row6 col6\" >1.000000</td>\n",
       "      <td id=\"T_044f5_row6_col7\" class=\"data row6 col7\" >0.093236</td>\n",
       "    </tr>\n",
       "    <tr>\n",
       "      <th id=\"T_044f5_level0_row7\" class=\"row_heading level0 row7\" >y</th>\n",
       "      <td id=\"T_044f5_row7_col0\" class=\"data row7 col0\" >0.025155</td>\n",
       "      <td id=\"T_044f5_row7_col1\" class=\"data row7 col1\" >0.052838</td>\n",
       "      <td id=\"T_044f5_row7_col2\" class=\"data row7 col2\" >-0.028348</td>\n",
       "      <td id=\"T_044f5_row7_col3\" class=\"data row7 col3\" >0.394521</td>\n",
       "      <td id=\"T_044f5_row7_col4\" class=\"data row7 col4\" >-0.073172</td>\n",
       "      <td id=\"T_044f5_row7_col5\" class=\"data row7 col5\" >0.103621</td>\n",
       "      <td id=\"T_044f5_row7_col6\" class=\"data row7 col6\" >0.093236</td>\n",
       "      <td id=\"T_044f5_row7_col7\" class=\"data row7 col7\" >1.000000</td>\n",
       "    </tr>\n",
       "  </tbody>\n",
       "</table>\n"
      ],
      "text/plain": [
       "<pandas.io.formats.style.Styler at 0x2acbba5b220>"
      ]
     },
     "execution_count": 23,
     "metadata": {},
     "output_type": "execute_result"
    }
   ],
   "source": [
    "bank_df.corr('pearson',numeric_only=True).style.background_gradient(axis=None)"
   ]
  },
  {
   "cell_type": "code",
   "execution_count": 24,
   "id": "b92b5945",
   "metadata": {},
   "outputs": [
    {
     "data": {
      "text/plain": [
       "<Axes: xlabel='campaign', ylabel='balance'>"
      ]
     },
     "execution_count": 24,
     "metadata": {},
     "output_type": "execute_result"
    },
    {
     "data": {
      "image/png": "[encoded data removed]",
      "text/plain": [
       "<Figure size 640x480 with 1 Axes>"
      ]
     },
     "metadata": {},
     "output_type": "display_data"
    }
   ],
   "source": [
    "sns.scatterplot(bank_df,x='campaign',y='balance',hue='y',)"
   ]
  },
  {
   "cell_type": "markdown",
   "id": "fe1ff3ac",
   "metadata": {},
   "source": [
    "#### One Hot Encoding"
   ]
  },
  {
   "cell_type": "code",
   "execution_count": 25,
   "id": "06dd4fe9",
   "metadata": {},
   "outputs": [
    {
     "data": {
      "text/html": [
       "<div>\n",
       "<style scoped>\n",
       "    .dataframe tbody tr th:only-of-type {\n",
       "        vertical-align: middle;\n",
       "    }\n",
       "\n",
       "    .dataframe tbody tr th {\n",
       "        vertical-align: top;\n",
       "    }\n",
       "\n",
       "    .dataframe thead th {\n",
       "        text-align: right;\n",
       "    }\n",
       "</style>\n",
       "<table border=\"1\" class=\"dataframe\">\n",
       "  <thead>\n",
       "    <tr style=\"text-align: right;\">\n",
       "      <th></th>\n",
       "      <th>age</th>\n",
       "      <th>education</th>\n",
       "      <th>balance</th>\n",
       "      <th>day</th>\n",
       "      <th>duration</th>\n",
       "      <th>campaign</th>\n",
       "      <th>pdays</th>\n",
       "      <th>previous</th>\n",
       "      <th>job_blue-collar</th>\n",
       "      <th>job_entrepreneur</th>\n",
       "      <th>...</th>\n",
       "      <th>month_jul</th>\n",
       "      <th>month_jun</th>\n",
       "      <th>month_mar</th>\n",
       "      <th>month_may</th>\n",
       "      <th>month_nov</th>\n",
       "      <th>month_oct</th>\n",
       "      <th>month_sep</th>\n",
       "      <th>poutcome_other</th>\n",
       "      <th>poutcome_success</th>\n",
       "      <th>poutcome_unknown</th>\n",
       "    </tr>\n",
       "  </thead>\n",
       "  <tbody>\n",
       "    <tr>\n",
       "      <th>0</th>\n",
       "      <td>58</td>\n",
       "      <td>tertiary</td>\n",
       "      <td>2143</td>\n",
       "      <td>5</td>\n",
       "      <td>261</td>\n",
       "      <td>1</td>\n",
       "      <td>-1</td>\n",
       "      <td>0</td>\n",
       "      <td>0</td>\n",
       "      <td>0</td>\n",
       "      <td>...</td>\n",
       "      <td>0</td>\n",
       "      <td>0</td>\n",
       "      <td>0</td>\n",
       "      <td>1</td>\n",
       "      <td>0</td>\n",
       "      <td>0</td>\n",
       "      <td>0</td>\n",
       "      <td>0</td>\n",
       "      <td>0</td>\n",
       "      <td>1</td>\n",
       "    </tr>\n",
       "    <tr>\n",
       "      <th>1</th>\n",
       "      <td>44</td>\n",
       "      <td>secondary</td>\n",
       "      <td>29</td>\n",
       "      <td>5</td>\n",
       "      <td>151</td>\n",
       "      <td>1</td>\n",
       "      <td>-1</td>\n",
       "      <td>0</td>\n",
       "      <td>0</td>\n",
       "      <td>0</td>\n",
       "      <td>...</td>\n",
       "      <td>0</td>\n",
       "      <td>0</td>\n",
       "      <td>0</td>\n",
       "      <td>1</td>\n",
       "      <td>0</td>\n",
       "      <td>0</td>\n",
       "      <td>0</td>\n",
       "      <td>0</td>\n",
       "      <td>0</td>\n",
       "      <td>1</td>\n",
       "    </tr>\n",
       "    <tr>\n",
       "      <th>2</th>\n",
       "      <td>33</td>\n",
       "      <td>secondary</td>\n",
       "      <td>2</td>\n",
       "      <td>5</td>\n",
       "      <td>76</td>\n",
       "      <td>1</td>\n",
       "      <td>-1</td>\n",
       "      <td>0</td>\n",
       "      <td>0</td>\n",
       "      <td>1</td>\n",
       "      <td>...</td>\n",
       "      <td>0</td>\n",
       "      <td>0</td>\n",
       "      <td>0</td>\n",
       "      <td>1</td>\n",
       "      <td>0</td>\n",
       "      <td>0</td>\n",
       "      <td>0</td>\n",
       "      <td>0</td>\n",
       "      <td>0</td>\n",
       "      <td>1</td>\n",
       "    </tr>\n",
       "    <tr>\n",
       "      <th>3</th>\n",
       "      <td>47</td>\n",
       "      <td>unknown</td>\n",
       "      <td>1506</td>\n",
       "      <td>5</td>\n",
       "      <td>92</td>\n",
       "      <td>1</td>\n",
       "      <td>-1</td>\n",
       "      <td>0</td>\n",
       "      <td>1</td>\n",
       "      <td>0</td>\n",
       "      <td>...</td>\n",
       "      <td>0</td>\n",
       "      <td>0</td>\n",
       "      <td>0</td>\n",
       "      <td>1</td>\n",
       "      <td>0</td>\n",
       "      <td>0</td>\n",
       "      <td>0</td>\n",
       "      <td>0</td>\n",
       "      <td>0</td>\n",
       "      <td>1</td>\n",
       "    </tr>\n",
       "    <tr>\n",
       "      <th>4</th>\n",
       "      <td>33</td>\n",
       "      <td>unknown</td>\n",
       "      <td>1</td>\n",
       "      <td>5</td>\n",
       "      <td>198</td>\n",
       "      <td>1</td>\n",
       "      <td>-1</td>\n",
       "      <td>0</td>\n",
       "      <td>0</td>\n",
       "      <td>0</td>\n",
       "      <td>...</td>\n",
       "      <td>0</td>\n",
       "      <td>0</td>\n",
       "      <td>0</td>\n",
       "      <td>1</td>\n",
       "      <td>0</td>\n",
       "      <td>0</td>\n",
       "      <td>0</td>\n",
       "      <td>0</td>\n",
       "      <td>0</td>\n",
       "      <td>1</td>\n",
       "    </tr>\n",
       "  </tbody>\n",
       "</table>\n",
       "<p>5 rows × 40 columns</p>\n",
       "</div>"
      ],
      "text/plain": [
       "   age  education  balance  day  duration  campaign  pdays  previous  \\\n",
       "0   58   tertiary     2143    5       261         1     -1         0   \n",
       "1   44  secondary       29    5       151         1     -1         0   \n",
       "2   33  secondary        2    5        76         1     -1         0   \n",
       "3   47    unknown     1506    5        92         1     -1         0   \n",
       "4   33    unknown        1    5       198         1     -1         0   \n",
       "\n",
       "   job_blue-collar  job_entrepreneur  ...  month_jul  month_jun  month_mar  \\\n",
       "0                0                 0  ...          0          0          0   \n",
       "1                0                 0  ...          0          0          0   \n",
       "2                0                 1  ...          0          0          0   \n",
       "3                1                 0  ...          0          0          0   \n",
       "4                0                 0  ...          0          0          0   \n",
       "\n",
       "   month_may  month_nov  month_oct  month_sep  poutcome_other  \\\n",
       "0          1          0          0          0               0   \n",
       "1          1          0          0          0               0   \n",
       "2          1          0          0          0               0   \n",
       "3          1          0          0          0               0   \n",
       "4          1          0          0          0               0   \n",
       "\n",
       "   poutcome_success  poutcome_unknown  \n",
       "0                 0                 1  \n",
       "1                 0                 1  \n",
       "2                 0                 1  \n",
       "3                 0                 1  \n",
       "4                 0                 1  \n",
       "\n",
       "[5 rows x 40 columns]"
      ]
     },
     "execution_count": 25,
     "metadata": {},
     "output_type": "execute_result"
    }
   ],
   "source": [
    "# Redefine the list of categorical columns excluding the target variable 'y'\n",
    "# Not including education as it is an ordinal type of data\n",
    "\n",
    "categorical_columns = ['job', 'marital', 'default', 'housing', 'loan', 'contact', 'month', 'poutcome']\n",
    "\n",
    "# Perform one-hot encoding on the categorical columns\n",
    "data_pre = pd.get_dummies(bank_df, columns=categorical_columns, drop_first=True,dtype=int)\n",
    "\n",
    "# Separate the features (X) from the target variable (y)\n",
    "X = data_pre.drop('y', axis=1)\n",
    "y = data_pre['y']\n",
    "\n",
    "# Display the first few rows of the encoded features\n",
    "X.head()\n"
   ]
  },
  {
   "cell_type": "code",
   "execution_count": 26,
   "id": "e5eeea29",
   "metadata": {},
   "outputs": [],
   "source": [
    "# Libraries for Ordinal Encoding \n",
    "\n",
    "from sklearn.preprocessing import OrdinalEncoder"
   ]
  },
  {
   "cell_type": "markdown",
   "id": "a50097af",
   "metadata": {},
   "source": [
    "#### Ordinal Variables comprises a finite set of discrete values with a ranked ordering between values."
   ]
  },
  {
   "cell_type": "code",
   "execution_count": 27,
   "id": "39cde29d",
   "metadata": {},
   "outputs": [],
   "source": [
    "ord_encoder = OrdinalEncoder(categories=[['unknown', 'primary', 'secondary', 'tertiary']])\n",
    "X['education'] = ord_encoder.fit_transform(X[['education']])"
   ]
  },
  {
   "cell_type": "code",
   "execution_count": 28,
   "id": "26eec20c",
   "metadata": {},
   "outputs": [
    {
     "data": {
      "text/plain": [
       "education\n",
       "2.0    0.513194\n",
       "3.0    0.294198\n",
       "1.0    0.151534\n",
       "0.0    0.041074\n",
       "Name: proportion, dtype: float64"
      ]
     },
     "execution_count": 28,
     "metadata": {},
     "output_type": "execute_result"
    }
   ],
   "source": [
    "#Encoded Values\n",
    "X['education'].value_counts(normalize=True)"
   ]
  },
  {
   "cell_type": "code",
   "execution_count": 29,
   "id": "849a98f5",
   "metadata": {},
   "outputs": [
    {
     "data": {
      "text/plain": [
       "(45211, 40)"
      ]
     },
     "execution_count": 29,
     "metadata": {},
     "output_type": "execute_result"
    }
   ],
   "source": [
    "X.shape"
   ]
  },
  {
   "cell_type": "code",
   "execution_count": 30,
   "id": "19da58d2",
   "metadata": {},
   "outputs": [
    {
     "data": {
      "text/plain": [
       "(45211,)"
      ]
     },
     "execution_count": 30,
     "metadata": {},
     "output_type": "execute_result"
    }
   ],
   "source": [
    "y.shape"
   ]
  },
  {
   "cell_type": "code",
   "execution_count": 31,
   "id": "7e5ec5b5",
   "metadata": {},
   "outputs": [],
   "source": [
    "rf_seed = 345\n",
    "np.random.seed(rf_seed)"
   ]
  },
  {
   "cell_type": "code",
   "execution_count": null,
   "id": "695bac17",
   "metadata": {},
   "outputs": [],
   "source": []
  },
  {
   "cell_type": "markdown",
   "id": "2b26d8fa",
   "metadata": {},
   "source": [
    "#### Splitting the training data"
   ]
  },
  {
   "cell_type": "code",
   "execution_count": 32,
   "id": "3493f14b",
   "metadata": {},
   "outputs": [],
   "source": [
    "from sklearn.ensemble import RandomForestClassifier\n",
    "from sklearn.metrics import (\n",
    "    classification_report,\n",
    "    confusion_matrix,\n",
    "    fbeta_score,\n",
    "    make_scorer,\n",
    "    recall_score,\n",
    ")\n",
    "\n",
    "from sklearn.model_selection import cross_val_score, train_test_split\n",
    "from sklearn.tree import DecisionTreeClassifier\n",
    "from sklearn.metrics import accuracy_score, classification_report, confusion_matrix"
   ]
  },
  {
   "cell_type": "code",
   "execution_count": 33,
   "id": "678b300e",
   "metadata": {},
   "outputs": [],
   "source": [
    "X_train, X_test, y_train, y_test = train_test_split(X, y, test_size=0.33,stratify= y, random_state=rf_seed)"
   ]
  },
  {
   "cell_type": "code",
   "execution_count": 34,
   "id": "fbbcd697",
   "metadata": {},
   "outputs": [],
   "source": [
    "rf2 = RandomForestClassifier(\n",
    "    n_jobs=-1, random_state=rf_seed, class_weight=\"balanced_subsample\"\n",
    ")"
   ]
  },
  {
   "cell_type": "code",
   "execution_count": 35,
   "id": "a031dd46",
   "metadata": {},
   "outputs": [],
   "source": [
    "rs = make_scorer(recall_score)"
   ]
  },
  {
   "cell_type": "code",
   "execution_count": 48,
   "id": "0857928c",
   "metadata": {},
   "outputs": [
    {
     "name": "stdout",
     "output_type": "stream",
     "text": [
      "Cross validation scores: [0.00378072 0.         0.01512287 0.05860113 0.03780718 0.08695652\n",
      " 0.19848771 0.08506616 0.34215501 0.83742911]\n",
      "0.17 recall with a standard deviation of 0.25\n"
     ]
    }
   ],
   "source": [
    "cv = cross_val_score(rf2, X, y, cv=10, n_jobs=-1, scoring=rs)\n",
    "print(\"Cross validation scores: {}\".format(cv))\n",
    "print(\"%0.2f recall with a standard deviation of %0.2f\" % (cv.mean(), cv.std()))"
   ]
  },
  {
   "cell_type": "code",
   "execution_count": 37,
   "id": "1dd2e5be",
   "metadata": {},
   "outputs": [
    {
     "data": {
      "text/html": [
       "<style>#sk-container-id-1 {color: black;}#sk-container-id-1 pre{padding: 0;}#sk-container-id-1 div.sk-toggleable {background-color: white;}#sk-container-id-1 label.sk-toggleable__label {cursor: pointer;display: block;width: 100%;margin-bottom: 0;padding: 0.3em;box-sizing: border-box;text-align: center;}#sk-container-id-1 label.sk-toggleable__label-arrow:before {content: \"▸\";float: left;margin-right: 0.25em;color: #696969;}#sk-container-id-1 label.sk-toggleable__label-arrow:hover:before {color: black;}#sk-container-id-1 div.sk-estimator:hover label.sk-toggleable__label-arrow:before {color: black;}#sk-container-id-1 div.sk-toggleable__content {max-height: 0;max-width: 0;overflow: hidden;text-align: left;background-color: #f0f8ff;}#sk-container-id-1 div.sk-toggleable__content pre {margin: 0.2em;color: black;border-radius: 0.25em;background-color: #f0f8ff;}#sk-container-id-1 input.sk-toggleable__control:checked~div.sk-toggleable__content {max-height: 200px;max-width: 100%;overflow: auto;}#sk-container-id-1 input.sk-toggleable__control:checked~label.sk-toggleable__label-arrow:before {content: \"▾\";}#sk-container-id-1 div.sk-estimator input.sk-toggleable__control:checked~label.sk-toggleable__label {background-color: #d4ebff;}#sk-container-id-1 div.sk-label input.sk-toggleable__control:checked~label.sk-toggleable__label {background-color: #d4ebff;}#sk-container-id-1 input.sk-hidden--visually {border: 0;clip: rect(1px 1px 1px 1px);clip: rect(1px, 1px, 1px, 1px);height: 1px;margin: -1px;overflow: hidden;padding: 0;position: absolute;width: 1px;}#sk-container-id-1 div.sk-estimator {font-family: monospace;background-color: #f0f8ff;border: 1px dotted black;border-radius: 0.25em;box-sizing: border-box;margin-bottom: 0.5em;}#sk-container-id-1 div.sk-estimator:hover {background-color: #d4ebff;}#sk-container-id-1 div.sk-parallel-item::after {content: \"\";width: 100%;border-bottom: 1px solid gray;flex-grow: 1;}#sk-container-id-1 div.sk-label:hover label.sk-toggleable__label {background-color: #d4ebff;}#sk-container-id-1 div.sk-serial::before {content: \"\";position: absolute;border-left: 1px solid gray;box-sizing: border-box;top: 0;bottom: 0;left: 50%;z-index: 0;}#sk-container-id-1 div.sk-serial {display: flex;flex-direction: column;align-items: center;background-color: white;padding-right: 0.2em;padding-left: 0.2em;position: relative;}#sk-container-id-1 div.sk-item {position: relative;z-index: 1;}#sk-container-id-1 div.sk-parallel {display: flex;align-items: stretch;justify-content: center;background-color: white;position: relative;}#sk-container-id-1 div.sk-item::before, #sk-container-id-1 div.sk-parallel-item::before {content: \"\";position: absolute;border-left: 1px solid gray;box-sizing: border-box;top: 0;bottom: 0;left: 50%;z-index: -1;}#sk-container-id-1 div.sk-parallel-item {display: flex;flex-direction: column;z-index: 1;position: relative;background-color: white;}#sk-container-id-1 div.sk-parallel-item:first-child::after {align-self: flex-end;width: 50%;}#sk-container-id-1 div.sk-parallel-item:last-child::after {align-self: flex-start;width: 50%;}#sk-container-id-1 div.sk-parallel-item:only-child::after {width: 0;}#sk-container-id-1 div.sk-dashed-wrapped {border: 1px dashed gray;margin: 0 0.4em 0.5em 0.4em;box-sizing: border-box;padding-bottom: 0.4em;background-color: white;}#sk-container-id-1 div.sk-label label {font-family: monospace;font-weight: bold;display: inline-block;line-height: 1.2em;}#sk-container-id-1 div.sk-label-container {text-align: center;}#sk-container-id-1 div.sk-container {/* jupyter's `normalize.less` sets `[hidden] { display: none; }` but bootstrap.min.css set `[hidden] { display: none !important; }` so we also need the `!important` here to be able to override the default hidden behavior on the sphinx rendered scikit-learn.org. See: https://github.com/scikit-learn/scikit-learn/issues/21755 */display: inline-block !important;position: relative;}#sk-container-id-1 div.sk-text-repr-fallback {display: none;}</style><div id=\"sk-container-id-1\" class=\"sk-top-container\"><div class=\"sk-text-repr-fallback\"><pre>RandomForestClassifier(class_weight=&#x27;balanced_subsample&#x27;, n_jobs=-1,\n",
       "                       random_state=345)</pre><b>In a Jupyter environment, please rerun this cell to show the HTML representation or trust the notebook. <br />On GitHub, the HTML representation is unable to render, please try loading this page with nbviewer.org.</b></div><div class=\"sk-container\" hidden><div class=\"sk-item\"><div class=\"sk-estimator sk-toggleable\"><input class=\"sk-toggleable__control sk-hidden--visually\" id=\"sk-estimator-id-1\" type=\"checkbox\" checked><label for=\"sk-estimator-id-1\" class=\"sk-toggleable__label sk-toggleable__label-arrow\">RandomForestClassifier</label><div class=\"sk-toggleable__content\"><pre>RandomForestClassifier(class_weight=&#x27;balanced_subsample&#x27;, n_jobs=-1,\n",
       "                       random_state=345)</pre></div></div></div></div></div>"
      ],
      "text/plain": [
       "RandomForestClassifier(class_weight='balanced_subsample', n_jobs=-1,\n",
       "                       random_state=345)"
      ]
     },
     "execution_count": 37,
     "metadata": {},
     "output_type": "execute_result"
    }
   ],
   "source": [
    "rf2.fit(X_train, y_train)"
   ]
  },
  {
   "cell_type": "code",
   "execution_count": 38,
   "id": "a75698e2",
   "metadata": {},
   "outputs": [],
   "source": [
    "pred_rf = rf2.predict(X_test)"
   ]
  },
  {
   "cell_type": "code",
   "execution_count": 39,
   "id": "430d89d0",
   "metadata": {},
   "outputs": [
    {
     "name": "stdout",
     "output_type": "stream",
     "text": [
      "              precision    recall  f1-score   support\n",
      "\n",
      "           0       0.91      0.98      0.95     13175\n",
      "           1       0.68      0.31      0.42      1745\n",
      "\n",
      "    accuracy                           0.90     14920\n",
      "   macro avg       0.80      0.64      0.69     14920\n",
      "weighted avg       0.89      0.90      0.89     14920\n",
      "\n"
     ]
    }
   ],
   "source": [
    "# Evaluate the model's performance\n",
    "\n",
    "rf_accuracy = accuracy_score(y_test,pred_rf)\n",
    "rf_classification_report = classification_report(y_test, pred_rf)\n",
    "\n",
    "print(rf_classification_report)"
   ]
  },
  {
   "cell_type": "markdown",
   "id": "193e2bd0",
   "metadata": {},
   "source": [
    "As we can see in the above result accuracy is 90% but the recall for minority class is only 31%. This is due to highly imbalanced class. We need to impelement the oversampling technique and then train our model.\n",
    "\n",
    "#### If we need to trade off between Precision and Recall as per the problem statement we need a better recall(that is to penalize False Negatives)"
   ]
  },
  {
   "cell_type": "markdown",
   "id": "3cf76ff3",
   "metadata": {},
   "source": [
    "### Oversampling Techniques"
   ]
  },
  {
   "cell_type": "code",
   "execution_count": 42,
   "id": "feb86bdc",
   "metadata": {},
   "outputs": [],
   "source": [
    "from imblearn.over_sampling import SMOTE, ADASYN"
   ]
  },
  {
   "cell_type": "code",
   "execution_count": 44,
   "id": "300c6654",
   "metadata": {},
   "outputs": [],
   "source": [
    "smote= SMOTE(random_state=42)\n",
    "ada= ADASYN(random_state=42)"
   ]
  },
  {
   "cell_type": "code",
   "execution_count": 45,
   "id": "3e2e0fb9",
   "metadata": {},
   "outputs": [],
   "source": [
    "X_train_sme, y_train_sme = smote.fit_resample(X_train,y_train)\n",
    "X_train_ada, y_train_ada= ada.fit_resample(X_train,y_train)"
   ]
  },
  {
   "cell_type": "code",
   "execution_count": 46,
   "id": "f2fbfb58",
   "metadata": {},
   "outputs": [],
   "source": [
    "rf_sme = RandomForestClassifier(n_jobs=-1,random_state=rf_seed)"
   ]
  },
  {
   "cell_type": "code",
   "execution_count": 49,
   "id": "e316a61c",
   "metadata": {},
   "outputs": [
    {
     "name": "stdout",
     "output_type": "stream",
     "text": [
      "Cross validation scores: [0.33495327 0.84074766 0.99850467 0.99775701 0.99513837 0.9973822\n",
      " 0.9973822  0.99439252 0.99551402 0.99514019]\n",
      "0.91 recall with a standard deviation of 0.20\n"
     ]
    }
   ],
   "source": [
    "cv_sme = cross_val_score(rf_sme, X_train_sme, y_train_sme, cv=10, n_jobs=-1, scoring=rs)\n",
    "print(\"Cross validation scores: {}\".format(cv_sme))\n",
    "print(\"%0.2f recall with a standard deviation of %0.2f\" % (cv_sme.mean(), cv_sme.std()))"
   ]
  },
  {
   "cell_type": "code",
   "execution_count": 50,
   "id": "ab876c41",
   "metadata": {},
   "outputs": [],
   "source": [
    "rf_sme.fit(X_train_sme,y_train_sme)\n",
    "pred_rf_sme = rf_sme.predict(X_test)"
   ]
  },
  {
   "cell_type": "code",
   "execution_count": 51,
   "id": "91791a6d",
   "metadata": {},
   "outputs": [
    {
     "name": "stdout",
     "output_type": "stream",
     "text": [
      "              precision    recall  f1-score   support\n",
      "\n",
      "           0       0.93      0.96      0.95     13175\n",
      "           1       0.61      0.48      0.54      1745\n",
      "\n",
      "    accuracy                           0.90     14920\n",
      "   macro avg       0.77      0.72      0.74     14920\n",
      "weighted avg       0.90      0.90      0.90     14920\n",
      "\n"
     ]
    }
   ],
   "source": [
    "# Evaluate the model's performance\n",
    "\n",
    "rf_sme_accuracy = accuracy_score(y_test,pred_rf_sme)\n",
    "rf_sme_classification_report = classification_report(y_test, pred_rf_sme)\n",
    "\n",
    "print(rf_sme_classification_report)"
   ]
  },
  {
   "cell_type": "code",
   "execution_count": 52,
   "id": "833a4392",
   "metadata": {},
   "outputs": [
    {
     "name": "stdout",
     "output_type": "stream",
     "text": [
      "Cross validation scores: [0.29597388 0.85273848 0.98657962 0.99310595 0.99092888 0.99419448\n",
      " 0.99201742 0.99129489 0.99056946 0.98512876]\n",
      "0.91 recall with a standard deviation of 0.21\n"
     ]
    }
   ],
   "source": [
    "rf_ada = RandomForestClassifier(n_jobs=-1,random_state=rf_seed)\n",
    "cv_ada = cross_val_score(rf_ada, X_train_ada, y_train_ada, cv=10, n_jobs=-1, scoring=rs)\n",
    "print(\"Cross validation scores: {}\".format(cv_ada))\n",
    "print(\"%0.2f recall with a standard deviation of %0.2f\" % (cv_ada.mean(), cv_ada.std()))"
   ]
  },
  {
   "cell_type": "code",
   "execution_count": 54,
   "id": "4d088a9a",
   "metadata": {},
   "outputs": [
    {
     "name": "stdout",
     "output_type": "stream",
     "text": [
      "              precision    recall  f1-score   support\n",
      "\n",
      "           0       0.93      0.96      0.95     13175\n",
      "           1       0.60      0.47      0.53      1745\n",
      "\n",
      "    accuracy                           0.90     14920\n",
      "   macro avg       0.77      0.72      0.74     14920\n",
      "weighted avg       0.89      0.90      0.90     14920\n",
      "\n"
     ]
    }
   ],
   "source": [
    "rf_ada.fit(X_train_ada,y_train_ada)\n",
    "pred_rf_ada = rf_ada.predict(X_test)\n",
    "rf_ada_accuracy = accuracy_score(y_test,pred_rf_ada)\n",
    "rf_ada_classification_report = classification_report(y_test, pred_rf_ada)\n",
    "\n",
    "print(rf_ada_classification_report)"
   ]
  },
  {
   "cell_type": "code",
   "execution_count": 55,
   "id": "b3dfba4e",
   "metadata": {},
   "outputs": [],
   "source": [
    "from sklearn.linear_model import LogisticRegression"
   ]
  },
  {
   "cell_type": "code",
   "execution_count": 56,
   "id": "f09160fa",
   "metadata": {},
   "outputs": [
    {
     "name": "stdout",
     "output_type": "stream",
     "text": [
      "              precision    recall  f1-score   support\n",
      "\n",
      "           0       0.93      0.93      0.93     13175\n",
      "           1       0.48      0.47      0.48      1745\n",
      "\n",
      "    accuracy                           0.88     14920\n",
      "   macro avg       0.71      0.70      0.70     14920\n",
      "weighted avg       0.88      0.88      0.88     14920\n",
      "\n"
     ]
    }
   ],
   "source": [
    "#Trying Logistic Regression\n",
    "\n",
    "LR_ada = LogisticRegression(solver='liblinear')\n",
    "LR_ada.fit(X_train_ada,y_train_ada)\n",
    "pred_LR_ada = LR_ada.predict(X_test)\n",
    "\n",
    "LR_ada_accuracy = accuracy_score(y_test,pred_LR_ada)\n",
    "LR_ada_classification_report = classification_report(y_test, pred_LR_ada)\n",
    "\n",
    "print(LR_ada_classification_report)"
   ]
  },
  {
   "cell_type": "code",
   "execution_count": 58,
   "id": "6856ac02",
   "metadata": {},
   "outputs": [
    {
     "name": "stderr",
     "output_type": "stream",
     "text": [
      "C:\\Python\\Python310\\lib\\site-packages\\sklearn\\model_selection\\_search.py:976: UserWarning: One or more of the test scores are non-finite: [       nan 0.91761634        nan 0.9163468         nan 0.91340838\n",
      "        nan 0.91079653        nan 0.90600799        nan 0.90335981]\n",
      "  warnings.warn(\n"
     ]
    },
    {
     "name": "stdout",
     "output_type": "stream",
     "text": [
      "Best Model: KNeighborsClassifier\n",
      "Best Recall Score: 0.9176163427085425\n",
      "Best Parameters: {'n_neighbors': 7, 'weights': 'distance'}\n"
     ]
    },
    {
     "name": "stderr",
     "output_type": "stream",
     "text": [
      "C:\\Python\\Python310\\lib\\site-packages\\sklearn\\linear_model\\_logistic.py:460: ConvergenceWarning: lbfgs failed to converge (status=1):\n",
      "STOP: TOTAL NO. of ITERATIONS REACHED LIMIT.\n",
      "\n",
      "Increase the number of iterations (max_iter) or scale the data as shown in:\n",
      "    https://scikit-learn.org/stable/modules/preprocessing.html\n",
      "Please also refer to the documentation for alternative solver options:\n",
      "    https://scikit-learn.org/stable/modules/linear_model.html#logistic-regression\n",
      "  n_iter_i = _check_optimize_result(\n"
     ]
    }
   ],
   "source": [
    "# A function to help with hyperparameter tuning and giving the model with best Recall\n",
    "\n",
    "from sklearn.model_selection import GridSearchCV\n",
    "from sklearn.neighbors import KNeighborsClassifier\n",
    "from sklearn.tree import DecisionTreeClassifier\n",
    "\n",
    "\n",
    "# Define the models and their respective parameter grids\n",
    "models_param_grid = {\n",
    "    KNeighborsClassifier(): {\n",
    "        'n_neighbors': [7,9,11,13,17,19],\n",
    "        'weights': ['uniform','distance'] \n",
    "    },\n",
    "    RandomForestClassifier(random_state=42): {\n",
    "        'n_estimators': [50, 100, 200],\n",
    "        'max_depth': [None, 5, 10, 15, 20],\n",
    "        'class_weight': ['balanced', 'balanced_subsample']\n",
    "    },\n",
    "    DecisionTreeClassifier(random_state=42): {\n",
    "        'max_depth': [None, 10, 20],\n",
    "        'criterion' :['gini', 'entropy'],\n",
    "        'min_samples_split': [2, 5, 10],\n",
    "        'class_weight': ['balanced']\n",
    "    },\n",
    "    LogisticRegression(max_iter=300, random_state=42): {\n",
    "        'solver': ['liblinear', 'lbfgs'],\n",
    "        'class_weight': ['balanced']\n",
    "    }\n",
    "}\n",
    "\n",
    "# Scoring method is already defined as \"rs\"\n",
    "\n",
    "# Results dictionary to store the best model and score\n",
    "best_model, best_score, best_params = None, 0, None\n",
    "\n",
    "# Grid search for each model\n",
    "for model, params in models_param_grid.items():\n",
    "    grid_search = GridSearchCV(model, params, cv=5, scoring=rs, n_jobs=-1)\n",
    "    grid_search.fit(X_train_ada, y_train_ada)\n",
    "    \n",
    "    if grid_search.best_score_ > best_score:\n",
    "        best_score = grid_search.best_score_\n",
    "        best_model = model.__class__.__name__\n",
    "        best_params = grid_search.best_params_\n",
    "\n",
    "# Print the best model and its score\n",
    "print(f\"Best Model: {best_model}\")\n",
    "print(f\"Best Recall Score: {best_score}\")\n",
    "print(f\"Best Parameters: {best_params}\")\n"
   ]
  },
  {
   "cell_type": "markdown",
   "id": "cb01309e",
   "metadata": {},
   "source": [
    "From all the models above, the model with best recall is KNN for ADASYN, let's try to predict the test data"
   ]
  },
  {
   "cell_type": "code",
   "execution_count": 60,
   "id": "558faf94",
   "metadata": {},
   "outputs": [],
   "source": [
    "#Trying the best model \n",
    "\n",
    "knn_ada=KNeighborsClassifier(n_neighbors=7,weights='distance')"
   ]
  },
  {
   "cell_type": "code",
   "execution_count": 62,
   "id": "281434b9",
   "metadata": {},
   "outputs": [
    {
     "name": "stdout",
     "output_type": "stream",
     "text": [
      "              precision    recall  f1-score   support\n",
      "\n",
      "           0       0.94      0.77      0.85     13175\n",
      "           1       0.27      0.64      0.38      1745\n",
      "\n",
      "    accuracy                           0.75     14920\n",
      "   macro avg       0.60      0.70      0.61     14920\n",
      "weighted avg       0.86      0.75      0.79     14920\n",
      "\n"
     ]
    }
   ],
   "source": [
    "knn_ada.fit(X_train_ada,y_train_ada)\n",
    "pred_knn_ada = knn_ada.predict(X_test)\n",
    "knn_ada_accuracy = accuracy_score(y_test,pred_knn_ada)\n",
    "knn_ada_classification_report = classification_report(y_test, pred_knn_ada)\n",
    "\n",
    "print(knn_ada_classification_report)"
   ]
  },
  {
   "cell_type": "markdown",
   "id": "4a35884e",
   "metadata": {},
   "source": [
    "As we can see there is a significant improvement on Recall but at the cost of accuracy which was expected due to the higher number of false positivies."
   ]
  },
  {
   "cell_type": "code",
   "execution_count": 64,
   "id": "5b475c71",
   "metadata": {},
   "outputs": [
    {
     "name": "stdout",
     "output_type": "stream",
     "text": [
      "Fitting 5 folds for each of 128 candidates, totalling 640 fits\n"
     ]
    },
    {
     "data": {
      "text/html": [
       "<style>#sk-container-id-2 {color: black;}#sk-container-id-2 pre{padding: 0;}#sk-container-id-2 div.sk-toggleable {background-color: white;}#sk-container-id-2 label.sk-toggleable__label {cursor: pointer;display: block;width: 100%;margin-bottom: 0;padding: 0.3em;box-sizing: border-box;text-align: center;}#sk-container-id-2 label.sk-toggleable__label-arrow:before {content: \"▸\";float: left;margin-right: 0.25em;color: #696969;}#sk-container-id-2 label.sk-toggleable__label-arrow:hover:before {color: black;}#sk-container-id-2 div.sk-estimator:hover label.sk-toggleable__label-arrow:before {color: black;}#sk-container-id-2 div.sk-toggleable__content {max-height: 0;max-width: 0;overflow: hidden;text-align: left;background-color: #f0f8ff;}#sk-container-id-2 div.sk-toggleable__content pre {margin: 0.2em;color: black;border-radius: 0.25em;background-color: #f0f8ff;}#sk-container-id-2 input.sk-toggleable__control:checked~div.sk-toggleable__content {max-height: 200px;max-width: 100%;overflow: auto;}#sk-container-id-2 input.sk-toggleable__control:checked~label.sk-toggleable__label-arrow:before {content: \"▾\";}#sk-container-id-2 div.sk-estimator input.sk-toggleable__control:checked~label.sk-toggleable__label {background-color: #d4ebff;}#sk-container-id-2 div.sk-label input.sk-toggleable__control:checked~label.sk-toggleable__label {background-color: #d4ebff;}#sk-container-id-2 input.sk-hidden--visually {border: 0;clip: rect(1px 1px 1px 1px);clip: rect(1px, 1px, 1px, 1px);height: 1px;margin: -1px;overflow: hidden;padding: 0;position: absolute;width: 1px;}#sk-container-id-2 div.sk-estimator {font-family: monospace;background-color: #f0f8ff;border: 1px dotted black;border-radius: 0.25em;box-sizing: border-box;margin-bottom: 0.5em;}#sk-container-id-2 div.sk-estimator:hover {background-color: #d4ebff;}#sk-container-id-2 div.sk-parallel-item::after {content: \"\";width: 100%;border-bottom: 1px solid gray;flex-grow: 1;}#sk-container-id-2 div.sk-label:hover label.sk-toggleable__label {background-color: #d4ebff;}#sk-container-id-2 div.sk-serial::before {content: \"\";position: absolute;border-left: 1px solid gray;box-sizing: border-box;top: 0;bottom: 0;left: 50%;z-index: 0;}#sk-container-id-2 div.sk-serial {display: flex;flex-direction: column;align-items: center;background-color: white;padding-right: 0.2em;padding-left: 0.2em;position: relative;}#sk-container-id-2 div.sk-item {position: relative;z-index: 1;}#sk-container-id-2 div.sk-parallel {display: flex;align-items: stretch;justify-content: center;background-color: white;position: relative;}#sk-container-id-2 div.sk-item::before, #sk-container-id-2 div.sk-parallel-item::before {content: \"\";position: absolute;border-left: 1px solid gray;box-sizing: border-box;top: 0;bottom: 0;left: 50%;z-index: -1;}#sk-container-id-2 div.sk-parallel-item {display: flex;flex-direction: column;z-index: 1;position: relative;background-color: white;}#sk-container-id-2 div.sk-parallel-item:first-child::after {align-self: flex-end;width: 50%;}#sk-container-id-2 div.sk-parallel-item:last-child::after {align-self: flex-start;width: 50%;}#sk-container-id-2 div.sk-parallel-item:only-child::after {width: 0;}#sk-container-id-2 div.sk-dashed-wrapped {border: 1px dashed gray;margin: 0 0.4em 0.5em 0.4em;box-sizing: border-box;padding-bottom: 0.4em;background-color: white;}#sk-container-id-2 div.sk-label label {font-family: monospace;font-weight: bold;display: inline-block;line-height: 1.2em;}#sk-container-id-2 div.sk-label-container {text-align: center;}#sk-container-id-2 div.sk-container {/* jupyter's `normalize.less` sets `[hidden] { display: none; }` but bootstrap.min.css set `[hidden] { display: none !important; }` so we also need the `!important` here to be able to override the default hidden behavior on the sphinx rendered scikit-learn.org. See: https://github.com/scikit-learn/scikit-learn/issues/21755 */display: inline-block !important;position: relative;}#sk-container-id-2 div.sk-text-repr-fallback {display: none;}</style><div id=\"sk-container-id-2\" class=\"sk-top-container\"><div class=\"sk-text-repr-fallback\"><pre>GridSearchCV(cv=5, estimator=DecisionTreeClassifier(), n_jobs=-1,\n",
       "             param_grid={&#x27;criterion&#x27;: [&#x27;gini&#x27;, &#x27;entropy&#x27;],\n",
       "                         &#x27;max_depth&#x27;: [5, 7, 9, None],\n",
       "                         &#x27;min_samples_leaf&#x27;: [2, 5, 7, 10],\n",
       "                         &#x27;min_samples_split&#x27;: [2, 5, 10, 20]},\n",
       "             scoring=&#x27;recall&#x27;, verbose=2)</pre><b>In a Jupyter environment, please rerun this cell to show the HTML representation or trust the notebook. <br />On GitHub, the HTML representation is unable to render, please try loading this page with nbviewer.org.</b></div><div class=\"sk-container\" hidden><div class=\"sk-item sk-dashed-wrapped\"><div class=\"sk-label-container\"><div class=\"sk-label sk-toggleable\"><input class=\"sk-toggleable__control sk-hidden--visually\" id=\"sk-estimator-id-2\" type=\"checkbox\" ><label for=\"sk-estimator-id-2\" class=\"sk-toggleable__label sk-toggleable__label-arrow\">GridSearchCV</label><div class=\"sk-toggleable__content\"><pre>GridSearchCV(cv=5, estimator=DecisionTreeClassifier(), n_jobs=-1,\n",
       "             param_grid={&#x27;criterion&#x27;: [&#x27;gini&#x27;, &#x27;entropy&#x27;],\n",
       "                         &#x27;max_depth&#x27;: [5, 7, 9, None],\n",
       "                         &#x27;min_samples_leaf&#x27;: [2, 5, 7, 10],\n",
       "                         &#x27;min_samples_split&#x27;: [2, 5, 10, 20]},\n",
       "             scoring=&#x27;recall&#x27;, verbose=2)</pre></div></div></div><div class=\"sk-parallel\"><div class=\"sk-parallel-item\"><div class=\"sk-item\"><div class=\"sk-label-container\"><div class=\"sk-label sk-toggleable\"><input class=\"sk-toggleable__control sk-hidden--visually\" id=\"sk-estimator-id-3\" type=\"checkbox\" ><label for=\"sk-estimator-id-3\" class=\"sk-toggleable__label sk-toggleable__label-arrow\">estimator: DecisionTreeClassifier</label><div class=\"sk-toggleable__content\"><pre>DecisionTreeClassifier()</pre></div></div></div><div class=\"sk-serial\"><div class=\"sk-item\"><div class=\"sk-estimator sk-toggleable\"><input class=\"sk-toggleable__control sk-hidden--visually\" id=\"sk-estimator-id-4\" type=\"checkbox\" ><label for=\"sk-estimator-id-4\" class=\"sk-toggleable__label sk-toggleable__label-arrow\">DecisionTreeClassifier</label><div class=\"sk-toggleable__content\"><pre>DecisionTreeClassifier()</pre></div></div></div></div></div></div></div></div></div></div>"
      ],
      "text/plain": [
       "GridSearchCV(cv=5, estimator=DecisionTreeClassifier(), n_jobs=-1,\n",
       "             param_grid={'criterion': ['gini', 'entropy'],\n",
       "                         'max_depth': [5, 7, 9, None],\n",
       "                         'min_samples_leaf': [2, 5, 7, 10],\n",
       "                         'min_samples_split': [2, 5, 10, 20]},\n",
       "             scoring='recall', verbose=2)"
      ]
     },
     "execution_count": 64,
     "metadata": {},
     "output_type": "execute_result"
    }
   ],
   "source": [
    "# Let's try Decision Tree Model on the SMOTE data\n",
    "\n",
    "param_grid = {'min_samples_leaf': [2, 5, 7, 10],\n",
    "              'min_samples_split': [2, 5, 10, 20],\n",
    "              'max_depth' : [5, 7, 9, None],\n",
    "              'criterion' :['gini', 'entropy']\n",
    "             }\n",
    "\n",
    "gs_dt = GridSearchCV(estimator=DecisionTreeClassifier(),param_grid=param_grid,cv=5,scoring='recall',n_jobs=-1,verbose=2)\n",
    "\n",
    "gs_dt.fit(X_train_sme,y_train_sme)"
   ]
  },
  {
   "cell_type": "code",
   "execution_count": 65,
   "id": "bf8fd916",
   "metadata": {},
   "outputs": [
    {
     "data": {
      "text/plain": [
       "0.9110517294699157"
      ]
     },
     "execution_count": 65,
     "metadata": {},
     "output_type": "execute_result"
    }
   ],
   "source": [
    "gs_dt.best_score_"
   ]
  },
  {
   "cell_type": "code",
   "execution_count": 66,
   "id": "4ecd1247",
   "metadata": {},
   "outputs": [
    {
     "data": {
      "text/plain": [
       "{'criterion': 'entropy',\n",
       " 'max_depth': 9,\n",
       " 'min_samples_leaf': 2,\n",
       " 'min_samples_split': 5}"
      ]
     },
     "execution_count": 66,
     "metadata": {},
     "output_type": "execute_result"
    }
   ],
   "source": [
    "gs_dt.best_params_"
   ]
  },
  {
   "cell_type": "code",
   "execution_count": 67,
   "id": "c42a31de",
   "metadata": {},
   "outputs": [
    {
     "name": "stdout",
     "output_type": "stream",
     "text": [
      "              precision    recall  f1-score   support\n",
      "\n",
      "           0       0.96      0.90      0.93     13175\n",
      "           1       0.47      0.68      0.56      1745\n",
      "\n",
      "    accuracy                           0.87     14920\n",
      "   macro avg       0.71      0.79      0.74     14920\n",
      "weighted avg       0.90      0.87      0.88     14920\n",
      "\n"
     ]
    }
   ],
   "source": [
    "pred_gs_dt_sme= gs_dt.predict(X_test)\n",
    "\n",
    "dt_sme_classification_report=classification_report(y_test, pred_gs_dt_sme)\n",
    "\n",
    "print(dt_sme_classification_report)"
   ]
  },
  {
   "cell_type": "markdown",
   "id": "9133f2eb",
   "metadata": {},
   "source": [
    "This is a better model as the recall is significant higher and the accuracy & precision is not that badly impacted"
   ]
  },
  {
   "cell_type": "markdown",
   "id": "8701954f",
   "metadata": {},
   "source": [
    "#### Comments :\n",
    "\n",
    "1) There is a significant improvement in Recall after we used oversampling methods to train the model. Especially in the Decision Tree model where recall is 68% and overall accuracy as 87%."
   ]
  },
  {
   "cell_type": "code",
   "execution_count": null,
   "id": "7e5be5dc",
   "metadata": {},
   "outputs": [],
   "source": []
  }
 ],
 "metadata": {
  "kernelspec": {
   "display_name": "Python 3 (ipykernel)",
   "language": "python",
   "name": "python3"
  },
  "language_info": {
   "codemirror_mode": {
    "name": "ipython",
    "version": 3
   },
   "file_extension": ".py",
   "mimetype": "text/x-python",
   "name": "python",
   "nbconvert_exporter": "python",
   "pygments_lexer": "ipython3",
   "version": "3.10.10"
  }
 },
 "nbformat": 4,
 "nbformat_minor": 5
}
